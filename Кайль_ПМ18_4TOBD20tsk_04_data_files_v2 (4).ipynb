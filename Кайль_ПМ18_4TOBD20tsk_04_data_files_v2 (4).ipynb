{
  "nbformat": 4,
  "nbformat_minor": 0,
  "metadata": {
    "kernelspec": {
      "display_name": "Python 3",
      "language": "python",
      "name": "python3"
    },
    "language_info": {
      "codemirror_mode": {
        "name": "ipython",
        "version": 3
      },
      "file_extension": ".py",
      "mimetype": "text/x-python",
      "name": "python",
      "nbconvert_exporter": "python",
      "pygments_lexer": "ipython3",
      "version": "3.7.4"
    },
    "colab": {
      "name": "Кайль ПМ18-4TOBD20tsk_04_data_files_v2.ipynb",
      "provenance": [],
      "collapsed_sections": []
    }
  },
  "cells": [
    {
      "cell_type": "markdown",
      "metadata": {
        "id": "AerdB7wP_snV"
      },
      "source": [
        "Задачи по Pandas\n",
        "\n",
        "V 0.1 24.09.2020\n",
        "\n",
        "Датасеты:\n",
        "* addres-book.json\n",
        "* addres-book.xml\n",
        "* addres-book-q.xml "
      ]
    },
    {
      "cell_type": "markdown",
      "metadata": {
        "id": "0Imkiik1_snZ"
      },
      "source": [
        "# JSON\n",
        "\n",
        "* Работаем с файлом addres-book.json"
      ]
    },
    {
      "cell_type": "code",
      "metadata": {
        "id": "c4Xp7c0eCC0I",
        "colab": {
          "base_uri": "https://localhost:8080/"
        },
        "outputId": "9ba242a7-ab0f-4cdf-a632-d54c74941274"
      },
      "source": [
        "import json #подключили библиотеку для работы с json\n",
        "from pprint import pprint #подключили Pprint для красоты выдачи текста\n",
        "with open('addres-book.json', 'r', encoding = 'utf-8') as f:\n",
        "  text = json.load(f)\n",
        "  pprint(text)\n"
      ],
      "execution_count": 10,
      "outputs": [
        {
          "output_type": "stream",
          "name": "stdout",
          "text": [
            "[{'birthday': '22.08.1994',\n",
            "  'email': 'faina@mail.ru',\n",
            "  'name': 'Faina Lee',\n",
            "  'phones': [{'phone': '232-19-55'}, {'phone': '+7 (916) 232-19-55'}]},\n",
            " {'birthday': '22.08.1994',\n",
            "  'email': 'robert@mail.ru',\n",
            "  'name': 'Robert Lee',\n",
            "  'phones': [{'phone': '111-19-55'}, {'phone': '+7 (916) 445-19-55'}]}]\n"
          ]
        }
      ]
    },
    {
      "cell_type": "code",
      "metadata": {
        "id": "HfIpGc2nKvq8"
      },
      "source": [
        "# 2 вариант (через пандас)\n",
        "import pandas as pd\n",
        "df = pd.read_json('addres-book.json')"
      ],
      "execution_count": 14,
      "outputs": []
    },
    {
      "cell_type": "code",
      "metadata": {
        "colab": {
          "base_uri": "https://localhost:8080/"
        },
        "id": "i04Zlg9VLHnp",
        "outputId": "f6b75afc-503b-4118-f915-f2004a8434dc"
      },
      "source": [
        "# пример конвертации в json из pandas\n",
        "result = df.to_json(orient=\"records\")\n",
        "parsed = json.loads(result)\n",
        "pprint(parsed)"
      ],
      "execution_count": 15,
      "outputs": [
        {
          "output_type": "stream",
          "name": "stdout",
          "text": [
            "[{'birthday': '22.08.1994',\n",
            "  'email': 'faina@mail.ru',\n",
            "  'name': 'Faina Lee',\n",
            "  'phones': [{'phone': '232-19-55'}, {'phone': '+7 (916) 232-19-55'}]},\n",
            " {'birthday': '22.08.1994',\n",
            "  'email': 'robert@mail.ru',\n",
            "  'name': 'Robert Lee',\n",
            "  'phones': [{'phone': '111-19-55'}, {'phone': '+7 (916) 445-19-55'}]}]\n"
          ]
        }
      ]
    },
    {
      "cell_type": "markdown",
      "metadata": {
        "id": "T4IkKSon_sna"
      },
      "source": [
        "1) Вывести все адреса электронной почты, содржащиеся в адресной книге, имеющей структуру, аналогичную my_ab2."
      ]
    },
    {
      "cell_type": "code",
      "metadata": {
        "id": "eVYbRiNqAAd4",
        "colab": {
          "base_uri": "https://localhost:8080/"
        },
        "outputId": "c75a4c6f-2fd5-427f-e9a2-3a4a9e00bf69"
      },
      "source": [
        "for txt in text:\n",
        "  pprint(txt['email'])"
      ],
      "execution_count": 16,
      "outputs": [
        {
          "output_type": "stream",
          "name": "stdout",
          "text": [
            "'faina@mail.ru'\n",
            "'robert@mail.ru'\n"
          ]
        }
      ]
    },
    {
      "cell_type": "code",
      "metadata": {
        "colab": {
          "base_uri": "https://localhost:8080/"
        },
        "id": "ToCZr_9ZKlDf",
        "outputId": "a46c85dd-e93e-46be-f788-fd5d11537630"
      },
      "source": [
        "# 2 вариант (через пандас)\n",
        "df.email"
      ],
      "execution_count": 17,
      "outputs": [
        {
          "output_type": "execute_result",
          "data": {
            "text/plain": [
              "0     faina@mail.ru\n",
              "1    robert@mail.ru\n",
              "Name: email, dtype: object"
            ]
          },
          "metadata": {},
          "execution_count": 17
        }
      ]
    },
    {
      "cell_type": "markdown",
      "metadata": {
        "id": "Skb4tEt8_snb"
      },
      "source": [
        "2) Вывести телефоны, содржащиеся в адресной книге, имеющей структуру, аналогичную my_ab2. "
      ]
    },
    {
      "cell_type": "code",
      "metadata": {
        "colab": {
          "base_uri": "https://localhost:8080/"
        },
        "id": "IZNhmTjYDyaP",
        "outputId": "a96ae171-c28d-4beb-d120-c6e3891eadbd"
      },
      "source": [
        "for txt in text:\n",
        "  pprint(txt['phones'])"
      ],
      "execution_count": 18,
      "outputs": [
        {
          "output_type": "stream",
          "name": "stdout",
          "text": [
            "[{'phone': '232-19-55'}, {'phone': '+7 (916) 232-19-55'}]\n",
            "[{'phone': '111-19-55'}, {'phone': '+7 (916) 445-19-55'}]\n"
          ]
        }
      ]
    },
    {
      "cell_type": "code",
      "metadata": {
        "colab": {
          "base_uri": "https://localhost:8080/"
        },
        "id": "b2yMeFPXMSY6",
        "outputId": "c4f41a64-05e3-403c-d0cc-7e9e7e74aa9d"
      },
      "source": [
        "# 2 вариант (через пандас)\n",
        "df.phones"
      ],
      "execution_count": 19,
      "outputs": [
        {
          "output_type": "execute_result",
          "data": {
            "text/plain": [
              "0    [{'phone': '232-19-55'}, {'phone': '+7 (916) 2...\n",
              "1    [{'phone': '111-19-55'}, {'phone': '+7 (916) 4...\n",
              "Name: phones, dtype: object"
            ]
          },
          "metadata": {},
          "execution_count": 19
        }
      ]
    },
    {
      "cell_type": "markdown",
      "metadata": {
        "id": "my75d1Kb_snb"
      },
      "source": [
        "3) Изменить структуру данных my_ab2 так, чтобы для телефонов был однозначно известен их тип. Создать пример записи с обновленной структурой данных. Вывести все домашние телефоны, содржащиеся в созданном примере."
      ]
    },
    {
      "cell_type": "code",
      "metadata": {
        "id": "t3P0O5fRD_Eo"
      },
      "source": [
        "# 2 вариант (через пандас)"
      ],
      "execution_count": 20,
      "outputs": []
    },
    {
      "cell_type": "code",
      "metadata": {
        "id": "7SJdLbpvSLHz"
      },
      "source": [
        "l = []\n",
        "for i,j in dict(df.phones).items():\n",
        "  l.append(str(j).split(', '))\n"
      ],
      "execution_count": 21,
      "outputs": []
    },
    {
      "cell_type": "code",
      "metadata": {
        "colab": {
          "base_uri": "https://localhost:8080/"
        },
        "id": "7D-PXG_SVj-V",
        "outputId": "5813cf1e-1f7d-4062-a992-908117397cfb"
      },
      "source": [
        "l"
      ],
      "execution_count": 22,
      "outputs": [
        {
          "output_type": "execute_result",
          "data": {
            "text/plain": [
              "[[\"[{'phone': '232-19-55'}\", \"{'phone': '+7 (916) 232-19-55'}]\"],\n",
              " [\"[{'phone': '111-19-55'}\", \"{'phone': '+7 (916) 445-19-55'}]\"]]"
            ]
          },
          "metadata": {},
          "execution_count": 22
        }
      ]
    },
    {
      "cell_type": "code",
      "metadata": {
        "colab": {
          "base_uri": "https://localhost:8080/",
          "height": 35
        },
        "id": "u_D_9skPTgzo",
        "outputId": "a635b13e-2291-48ed-ed4d-45fe1f519549"
      },
      "source": [
        "l[0][1]"
      ],
      "execution_count": 23,
      "outputs": [
        {
          "output_type": "execute_result",
          "data": {
            "application/vnd.google.colaboratory.intrinsic+json": {
              "type": "string"
            },
            "text/plain": [
              "\"{'phone': '+7 (916) 232-19-55'}]\""
            ]
          },
          "metadata": {},
          "execution_count": 23
        }
      ]
    },
    {
      "cell_type": "code",
      "metadata": {
        "id": "IVzVYV6-VrBO"
      },
      "source": [
        "df['home'] = [i[0] for i in l]"
      ],
      "execution_count": 24,
      "outputs": []
    },
    {
      "cell_type": "code",
      "metadata": {
        "id": "9oreig6-V_3w"
      },
      "source": [
        "df['main'] = [i[1] for i in l]"
      ],
      "execution_count": 25,
      "outputs": []
    },
    {
      "cell_type": "code",
      "metadata": {
        "colab": {
          "base_uri": "https://localhost:8080/"
        },
        "id": "9shLD27tV6jS",
        "outputId": "98bbdb0d-2ea6-4f25-d0a2-d41444ab80b2"
      },
      "source": [
        "print(df.main)\n",
        "print(df.home)"
      ],
      "execution_count": 26,
      "outputs": [
        {
          "output_type": "stream",
          "name": "stdout",
          "text": [
            "0    {'phone': '+7 (916) 232-19-55'}]\n",
            "1    {'phone': '+7 (916) 445-19-55'}]\n",
            "Name: main, dtype: object\n",
            "0    [{'phone': '232-19-55'}\n",
            "1    [{'phone': '111-19-55'}\n",
            "Name: home, dtype: object\n"
          ]
        }
      ]
    },
    {
      "cell_type": "markdown",
      "metadata": {
        "id": "q-O3hMJv_snb"
      },
      "source": [
        "3.2) Изменить структуру данных my_ab2 так, чтобы для каждой записи в адресной книге можно было записать список друзей этого человека, присутствующих в этой же адреснойЯфыыв. "
      ]
    },
    {
      "cell_type": "code",
      "metadata": {
        "id": "MvJh1YqlEU3G"
      },
      "source": [
        "df['friend'] = [i for i in range(2)]"
      ],
      "execution_count": 27,
      "outputs": []
    },
    {
      "cell_type": "code",
      "metadata": {
        "id": "vm7RDS7GYjjZ",
        "colab": {
          "base_uri": "https://localhost:8080/",
          "height": 147
        },
        "outputId": "d2a0c43d-f2b4-4e86-bf0c-9d2bd240a967"
      },
      "source": [
        "df"
      ],
      "execution_count": 28,
      "outputs": [
        {
          "output_type": "execute_result",
          "data": {
            "text/html": [
              "<div>\n",
              "<style scoped>\n",
              "    .dataframe tbody tr th:only-of-type {\n",
              "        vertical-align: middle;\n",
              "    }\n",
              "\n",
              "    .dataframe tbody tr th {\n",
              "        vertical-align: top;\n",
              "    }\n",
              "\n",
              "    .dataframe thead th {\n",
              "        text-align: right;\n",
              "    }\n",
              "</style>\n",
              "<table border=\"1\" class=\"dataframe\">\n",
              "  <thead>\n",
              "    <tr style=\"text-align: right;\">\n",
              "      <th></th>\n",
              "      <th>name</th>\n",
              "      <th>email</th>\n",
              "      <th>birthday</th>\n",
              "      <th>phones</th>\n",
              "      <th>home</th>\n",
              "      <th>main</th>\n",
              "      <th>friend</th>\n",
              "    </tr>\n",
              "  </thead>\n",
              "  <tbody>\n",
              "    <tr>\n",
              "      <th>0</th>\n",
              "      <td>Faina Lee</td>\n",
              "      <td>faina@mail.ru</td>\n",
              "      <td>22.08.1994</td>\n",
              "      <td>[{'phone': '232-19-55'}, {'phone': '+7 (916) 2...</td>\n",
              "      <td>[{'phone': '232-19-55'}</td>\n",
              "      <td>{'phone': '+7 (916) 232-19-55'}]</td>\n",
              "      <td>0</td>\n",
              "    </tr>\n",
              "    <tr>\n",
              "      <th>1</th>\n",
              "      <td>Robert Lee</td>\n",
              "      <td>robert@mail.ru</td>\n",
              "      <td>22.08.1994</td>\n",
              "      <td>[{'phone': '111-19-55'}, {'phone': '+7 (916) 4...</td>\n",
              "      <td>[{'phone': '111-19-55'}</td>\n",
              "      <td>{'phone': '+7 (916) 445-19-55'}]</td>\n",
              "      <td>1</td>\n",
              "    </tr>\n",
              "  </tbody>\n",
              "</table>\n",
              "</div>"
            ],
            "text/plain": [
              "         name           email  ...                              main friend\n",
              "0   Faina Lee   faina@mail.ru  ...  {'phone': '+7 (916) 232-19-55'}]      0\n",
              "1  Robert Lee  robert@mail.ru  ...  {'phone': '+7 (916) 445-19-55'}]      1\n",
              "\n",
              "[2 rows x 7 columns]"
            ]
          },
          "metadata": {},
          "execution_count": 28
        }
      ]
    },
    {
      "cell_type": "code",
      "metadata": {
        "id": "WwtsQEwxZJmz"
      },
      "source": [
        "result = df.to_json(orient=\"records\")\n",
        "parsed = json.loads(result)\n",
        "with open('addres-book.json', 'w',encoding = 'utf-8') as outfile:\n",
        "      json.dump(parsed, outfile, ensure_ascii=False, indent=2)"
      ],
      "execution_count": 29,
      "outputs": []
    },
    {
      "cell_type": "markdown",
      "metadata": {
        "id": "2TyeXp9b_snc"
      },
      "source": [
        "4) Написать функцию, которая формирует новую запись в телефонной книге, запрашивая у пользователя поочередно все необходимые поля."
      ]
    },
    {
      "cell_type": "code",
      "metadata": {
        "id": "dU-RtgH-GSoz"
      },
      "source": [
        "def client(bir, mail, friend, home, main, name, phone,phone2):\n",
        "\n",
        "  new_data = {'birthday': bir,'email': mail,'friend':friend,'home':home,'main':main,'name': name,'phones': [{'phone': phone}, {'phone': phone2}]}\n",
        "\n",
        "  with open('addres-book.json', 'r', encoding = 'utf-8') as f:\n",
        "    text = json.load(f)\n",
        "    text.append(new_data)\n",
        "    with open('addres-book.json', 'w',encoding = 'utf-8') as outfile:\n",
        "      json.dump(text, outfile, ensure_ascii=False, indent=2)"
      ],
      "execution_count": 30,
      "outputs": []
    },
    {
      "cell_type": "code",
      "metadata": {
        "id": "UOX816dGISos"
      },
      "source": [
        "client('11.11.2011','sobaka@.sobaka','петухи','88005553535','6666661488228','ivan', '88005553535','6666661488228')"
      ],
      "execution_count": 31,
      "outputs": []
    },
    {
      "cell_type": "code",
      "metadata": {
        "id": "4wZ5guwiInYf",
        "colab": {
          "base_uri": "https://localhost:8080/"
        },
        "outputId": "f9b179ad-55e8-416c-fff9-848fefa441a0"
      },
      "source": [
        "with open('addres-book.json', 'r', encoding = 'utf-8') as f:\n",
        "    text = json.load(f)\n",
        "    pprint(text)"
      ],
      "execution_count": 32,
      "outputs": [
        {
          "output_type": "stream",
          "name": "stdout",
          "text": [
            "[{'birthday': '22.08.1994',\n",
            "  'email': 'faina@mail.ru',\n",
            "  'friend': 0,\n",
            "  'home': \"[{'phone': '232-19-55'}\",\n",
            "  'main': \"{'phone': '+7 (916) 232-19-55'}]\",\n",
            "  'name': 'Faina Lee',\n",
            "  'phones': [{'phone': '232-19-55'}, {'phone': '+7 (916) 232-19-55'}]},\n",
            " {'birthday': '22.08.1994',\n",
            "  'email': 'robert@mail.ru',\n",
            "  'friend': 1,\n",
            "  'home': \"[{'phone': '111-19-55'}\",\n",
            "  'main': \"{'phone': '+7 (916) 445-19-55'}]\",\n",
            "  'name': 'Robert Lee',\n",
            "  'phones': [{'phone': '111-19-55'}, {'phone': '+7 (916) 445-19-55'}]},\n",
            " {'birthday': '11.11.2011',\n",
            "  'email': 'sobaka@.sobaka',\n",
            "  'friend': 'петухи',\n",
            "  'home': '88005553535',\n",
            "  'main': '6666661488228',\n",
            "  'name': 'ivan',\n",
            "  'phones': [{'phone': '88005553535'}, {'phone': '6666661488228'}]}]\n"
          ]
        }
      ]
    },
    {
      "cell_type": "markdown",
      "metadata": {
        "id": "rqbKUSQu_snd"
      },
      "source": [
        "5) Написать функцию, которая ищет по имени в хранящейся в файле телефонной книге запись о человеке и выводит информацию о нем в виде текста, где в каждой строке указывается тип выводимого поля и его содержимое."
      ]
    },
    {
      "cell_type": "code",
      "metadata": {
        "id": "hNkZk5wGJ73X"
      },
      "source": [
        "def find_person(name):\n",
        "  with open('addres-book.json', 'r', encoding = 'utf-8') as f:\n",
        "    text = json.load(f)\n",
        "  for n in text:\n",
        "    if n[\"name\"] == name:\n",
        "        value = n\n",
        "\n",
        "        break\n",
        "  else:\n",
        "    print(\"Error 228\")\n",
        "    \n",
        "    value = \"Такого пользователя нет\"\n",
        "  \n",
        "  return(value)"
      ],
      "execution_count": 33,
      "outputs": []
    },
    {
      "cell_type": "code",
      "metadata": {
        "id": "fQ9X5IbALZyt",
        "colab": {
          "base_uri": "https://localhost:8080/"
        },
        "outputId": "84cd3a4a-d0c1-4c07-b45c-e36e32d0a360"
      },
      "source": [
        "pprint(find_person('ivan'))"
      ],
      "execution_count": 34,
      "outputs": [
        {
          "output_type": "stream",
          "name": "stdout",
          "text": [
            "{'birthday': '11.11.2011',\n",
            " 'email': 'sobaka@.sobaka',\n",
            " 'friend': 'петухи',\n",
            " 'home': '88005553535',\n",
            " 'main': '6666661488228',\n",
            " 'name': 'ivan',\n",
            " 'phones': [{'phone': '88005553535'}, {'phone': '6666661488228'}]}\n"
          ]
        }
      ]
    },
    {
      "cell_type": "code",
      "metadata": {
        "id": "8Y_wowr_WVSV",
        "colab": {
          "base_uri": "https://localhost:8080/"
        },
        "outputId": "c32cd1aa-bce3-485f-effe-51f7ead20d4c"
      },
      "source": [
        "text"
      ],
      "execution_count": 35,
      "outputs": [
        {
          "output_type": "execute_result",
          "data": {
            "text/plain": [
              "[{'birthday': '22.08.1994',\n",
              "  'email': 'faina@mail.ru',\n",
              "  'friend': 0,\n",
              "  'home': \"[{'phone': '232-19-55'}\",\n",
              "  'main': \"{'phone': '+7 (916) 232-19-55'}]\",\n",
              "  'name': 'Faina Lee',\n",
              "  'phones': [{'phone': '232-19-55'}, {'phone': '+7 (916) 232-19-55'}]},\n",
              " {'birthday': '22.08.1994',\n",
              "  'email': 'robert@mail.ru',\n",
              "  'friend': 1,\n",
              "  'home': \"[{'phone': '111-19-55'}\",\n",
              "  'main': \"{'phone': '+7 (916) 445-19-55'}]\",\n",
              "  'name': 'Robert Lee',\n",
              "  'phones': [{'phone': '111-19-55'}, {'phone': '+7 (916) 445-19-55'}]},\n",
              " {'birthday': '11.11.2011',\n",
              "  'email': 'sobaka@.sobaka',\n",
              "  'friend': 'петухи',\n",
              "  'home': '88005553535',\n",
              "  'main': '6666661488228',\n",
              "  'name': 'ivan',\n",
              "  'phones': [{'phone': '88005553535'}, {'phone': '6666661488228'}]}]"
            ]
          },
          "metadata": {},
          "execution_count": 35
        }
      ]
    },
    {
      "cell_type": "markdown",
      "metadata": {
        "id": "gN56q7mh_snd"
      },
      "source": [
        "6) Получить координаты всех отделений связи г. Пущино, имеющих отдельный почтовый индекс, с использованием API 'http://api.zippopotam.us' . (Индексы использыемые в г. Пущино нужно собрать из открытых источников)."
      ]
    },
    {
      "cell_type": "code",
      "metadata": {
        "id": "_JbB4Xffmuc7"
      },
      "source": [
        "from bs4 import BeautifulSoup\n",
        "import requests as r"
      ],
      "execution_count": 43,
      "outputs": []
    },
    {
      "cell_type": "code",
      "metadata": {
        "id": "0U19unLwmf-6"
      },
      "source": [
        "re = r.get('https://index.kodifikant.ru/ru/5000001500000')\n",
        "s = BeautifulSoup(re.text, 'html.parser')"
      ],
      "execution_count": 44,
      "outputs": []
    },
    {
      "cell_type": "code",
      "metadata": {
        "id": "i00iV-sLvXpW"
      },
      "source": [
        "ind = []\n",
        "for tag in s.find_all(\"li\"):\n",
        "        ind.append(tag.text.split(' '))"
      ],
      "execution_count": 45,
      "outputs": []
    },
    {
      "cell_type": "code",
      "metadata": {
        "id": "oWOm52Tuzh7f"
      },
      "source": [
        "res = []"
      ],
      "execution_count": 46,
      "outputs": []
    },
    {
      "cell_type": "code",
      "metadata": {
        "id": "sQLdHfJ9xg52"
      },
      "source": [
        "for i in ind:\n",
        "  for j in i:\n",
        "    if '14' in j:\n",
        "      res.append(j)"
      ],
      "execution_count": 47,
      "outputs": []
    },
    {
      "cell_type": "code",
      "metadata": {
        "id": "PLLYeZRFzwWP"
      },
      "source": [
        "res_fin = []\n",
        "for v in res:\n",
        "  res_fin.append(int(v))"
      ],
      "execution_count": 48,
      "outputs": []
    },
    {
      "cell_type": "code",
      "metadata": {
        "id": "gAHEMmXe0_yV",
        "colab": {
          "base_uri": "https://localhost:8080/"
        },
        "outputId": "e4a2f2d2-a960-4ffc-a496-5aedc42e64c0"
      },
      "source": [
        "indexes = list(set(res_fin))\n",
        "indexes"
      ],
      "execution_count": 49,
      "outputs": [
        {
          "output_type": "execute_result",
          "data": {
            "text/plain": [
              "[142280, 142290]"
            ]
          },
          "metadata": {},
          "execution_count": 49
        }
      ]
    },
    {
      "cell_type": "code",
      "metadata": {
        "id": "2OIb4rkWf820"
      },
      "source": [
        "import requests as r\n",
        "response = r.get('http://api.zippopotam.us/RU/142290')\n",
        "response2 = r.get('http://api.zippopotam.us/RU/142280')"
      ],
      "execution_count": 50,
      "outputs": []
    },
    {
      "cell_type": "code",
      "metadata": {
        "id": "Ln_boLgsikYT"
      },
      "source": [
        "response_body = response.json()\n",
        "response_body2 = response2.json()"
      ],
      "execution_count": 51,
      "outputs": []
    },
    {
      "cell_type": "code",
      "metadata": {
        "id": "C-rcUhjTioOW",
        "colab": {
          "base_uri": "https://localhost:8080/"
        },
        "outputId": "798b37eb-1218-4cd1-f05c-357856151c4b"
      },
      "source": [
        "pprint(response_body)\n",
        "pprint(response_body2)"
      ],
      "execution_count": 52,
      "outputs": [
        {
          "output_type": "stream",
          "name": "stdout",
          "text": [
            "{'country': 'Russia',\n",
            " 'country abbreviation': 'RU',\n",
            " 'places': [{'latitude': '54.9454',\n",
            "             'longitude': '37.349',\n",
            "             'place name': 'Пущино',\n",
            "             'state': 'Московская Область',\n",
            "             'state abbreviation': ''}],\n",
            " 'post code': '142290'}\n",
            "{'country': 'Russia',\n",
            " 'country abbreviation': 'RU',\n",
            " 'places': [{'latitude': '54.8664',\n",
            "             'longitude': '37.2178',\n",
            "             'place name': 'Протвино',\n",
            "             'state': 'Московская Область',\n",
            "             'state abbreviation': ''}],\n",
            " 'post code': '142280'}\n"
          ]
        }
      ]
    },
    {
      "cell_type": "code",
      "metadata": {
        "id": "mUDIKJywovNw"
      },
      "source": [
        "dff = pd.DataFrame.from_dict(response_body)\n",
        "dff2 = pd.DataFrame.from_dict(response_body2)\n"
      ],
      "execution_count": 53,
      "outputs": []
    },
    {
      "cell_type": "code",
      "metadata": {
        "id": "LbJdb7PTpVYG"
      },
      "source": [
        "h = []\n",
        "for i,j in dict(dff.places).items():\n",
        "  h.append(str(j).split(', '))"
      ],
      "execution_count": 54,
      "outputs": []
    },
    {
      "cell_type": "code",
      "metadata": {
        "id": "qFZc-dAwrShu"
      },
      "source": [
        "h2 = []\n",
        "for ii,jj in dict(dff2.places).items():\n",
        "  h2.append(str(jj).split(', '))"
      ],
      "execution_count": 55,
      "outputs": []
    },
    {
      "cell_type": "code",
      "metadata": {
        "id": "lh14Yi1Prfa5",
        "colab": {
          "base_uri": "https://localhost:8080/"
        },
        "outputId": "53fc5d9b-03eb-4a14-fa4d-fc91ed7eb31c"
      },
      "source": [
        "h[0][1], h[0][4]"
      ],
      "execution_count": 56,
      "outputs": [
        {
          "output_type": "execute_result",
          "data": {
            "text/plain": [
              "(\"'longitude': '37.349'\", \"'latitude': '54.9454'}\")"
            ]
          },
          "metadata": {},
          "execution_count": 56
        }
      ]
    },
    {
      "cell_type": "code",
      "metadata": {
        "id": "wRPh_PLa3mkZ",
        "colab": {
          "base_uri": "https://localhost:8080/"
        },
        "outputId": "5b274194-cf73-4dcc-a00b-037f316ce8c0"
      },
      "source": [
        "h2[0][1], h2[0][4]"
      ],
      "execution_count": 57,
      "outputs": [
        {
          "output_type": "execute_result",
          "data": {
            "text/plain": [
              "(\"'longitude': '37.2178'\", \"'latitude': '54.8664'}\")"
            ]
          },
          "metadata": {},
          "execution_count": 57
        }
      ]
    },
    {
      "cell_type": "markdown",
      "metadata": {
        "id": "MuasZ_PB_sne"
      },
      "source": [
        "# Pickle"
      ]
    },
    {
      "cell_type": "code",
      "metadata": {
        "id": "j2mqiC0aa7Fh"
      },
      "source": [
        "import pickle\n",
        "import numpy as np"
      ],
      "execution_count": 58,
      "outputs": []
    },
    {
      "cell_type": "markdown",
      "metadata": {
        "id": "9cEBrVqV_snf"
      },
      "source": [
        "1) Сгенирорвать данные, аналогичные структуре ddres-book.json с 1000 записей. \n",
        "\n",
        "2) Сохранить результаты з.1 в файл Pickle и в файл JSON. Сравнить объемы получившихся файлов.\n",
        "\n",
        "3) Сравнить время записи / чтения данных в форматах Pickle и JSON из з.2\n",
        "\n",
        "4) Преорбазовать структуру данных из ddres-book.json так, чтобы для получения данных о конкретном человеке можно было эффективно использовать возможности модуля shelve."
      ]
    },
    {
      "cell_type": "markdown",
      "metadata": {
        "id": "nCaKT2-8jpx3"
      },
      "source": [
        "1\n"
      ]
    },
    {
      "cell_type": "code",
      "metadata": {
        "id": "f7xWPzmO8kDq"
      },
      "source": [
        "clients = [['11.11.2012','sobaka@.sobaka','петухи','88005553535','6666661488228','ivan', '88005553535','6666661488228']]*1000\n",
        "for i in clients:\n",
        "  client(i[0],i[1],i[2],i[3],i[4],i[5],i[6],i[7])\n"
      ],
      "execution_count": 60,
      "outputs": []
    },
    {
      "cell_type": "markdown",
      "metadata": {
        "id": "DRpcyDuTjwQD"
      },
      "source": [
        "2"
      ]
    },
    {
      "cell_type": "code",
      "metadata": {
        "colab": {
          "base_uri": "https://localhost:8080/"
        },
        "id": "I2vrQ7y4Ju0J",
        "outputId": "f4e5ddb2-1a9d-4546-8ffb-b55e4258d1dd"
      },
      "source": [
        "%time\n",
        "with open('dict.json', 'w') as outfile:\n",
        "    json.dump(my_ab, outfile,indent=3)"
      ],
      "execution_count": null,
      "outputs": [
        {
          "output_type": "execute_result",
          "data": {
            "text/plain": [
              "1635596515.8339846"
            ]
          },
          "metadata": {},
          "execution_count": 37
        }
      ]
    },
    {
      "cell_type": "code",
      "metadata": {
        "id": "ohLAj9qqjyZM"
      },
      "source": [
        "%time\n",
        "import pickle\n",
        "with open('dict.pickle', 'wb') as outfile:\n",
        "    pickle.dump(my_ab, outfile)"
      ],
      "execution_count": null,
      "outputs": []
    },
    {
      "cell_type": "markdown",
      "metadata": {
        "id": "b73OqCGRkMLL"
      },
      "source": [
        "3"
      ]
    },
    {
      "cell_type": "code",
      "metadata": {
        "id": "71kGYWGXj1HR"
      },
      "source": [
        "\n",
        "%time\n",
        "with open('dict.json', 'r', encoding='utf8') as fp:\n",
        "    datajson=json.load(fp)"
      ],
      "execution_count": null,
      "outputs": []
    },
    {
      "cell_type": "code",
      "metadata": {
        "id": "7bjiufs6j32o"
      },
      "source": [
        "%time\n",
        "with open('dict.pickle', 'rb') as fp:\n",
        "    datapickle=pickle.load(fp)"
      ],
      "execution_count": null,
      "outputs": []
    },
    {
      "cell_type": "markdown",
      "metadata": {
        "id": "VfqiJ_HwaBLu"
      },
      "source": [
        "до"
      ]
    },
    {
      "cell_type": "markdown",
      "metadata": {
        "id": "j5RHUtcs_snf"
      },
      "source": [
        "# XML"
      ]
    },
    {
      "cell_type": "code",
      "metadata": {
        "id": "asWj01Fsf460"
      },
      "source": [
        "import requests \n",
        "from bs4 import BeautifulSoup"
      ],
      "execution_count": 2,
      "outputs": []
    },
    {
      "cell_type": "markdown",
      "metadata": {
        "id": "zOKPIxSB_snf"
      },
      "source": [
        "1) По данным из файла addres-book-q.xml сформировать список словарей с телефоноами каждого из людей. Вид результата: [{ФИО: ['телефон1', 'телефон2']}] и вывести его на экран и сохранить в json файле.\n",
        "\n",
        "2) По данным из файла addres-book-q.xml сформировать список (в виде списка в Python) адресов электронной почты всех женщин и вывести его на экран\n",
        "\n",
        "3) По данным из файла addres-book-q.xml сформировать список (в виде списка в Python) всех участников с рабочими телефонами и вывести его на экран\n",
        "\n",
        "4) По данным из файла addres-book-q.xml сформировать словарь вида {название страны: количество участников} и вывести его на экран\n"
      ]
    },
    {
      "cell_type": "code",
      "metadata": {
        "id": "eaf_YSWZfMx3"
      },
      "source": [
        "with open('addres-book-q.xml') as f:\n",
        "    ab = BeautifulSoup(f, 'xml')"
      ],
      "execution_count": 3,
      "outputs": []
    },
    {
      "cell_type": "markdown",
      "metadata": {
        "id": "122iBENQkSUt"
      },
      "source": [
        "1"
      ]
    },
    {
      "cell_type": "code",
      "metadata": {
        "colab": {
          "base_uri": "https://localhost:8080/"
        },
        "id": "GP2H6B_-nYes",
        "outputId": "effe340e-3b08-4ef0-b48e-2abd9efcbec9"
      },
      "source": [
        "res = list();\n",
        "for person in ab.address_book.find_all(\"address\"):\n",
        "    ph = [phones.next for phones in person.phones.find_all(\"phone\")]\n",
        "    res.append({person.find(\"name\").next: ph})\n",
        "res"
      ],
      "execution_count": 4,
      "outputs": [
        {
          "output_type": "execute_result",
          "data": {
            "text/plain": [
              "[{'Aicha Barki': ['+ (213) 6150 4015', '+ (213) 2173 5247']},\n",
              " {'Francisco Domingos': ['+ (244-2) 325 023', '+ (244-2) 325 023']},\n",
              " {'Maria Luisa': ['+ (244) 4232 2836']},\n",
              " {'Abraao Chanda': ['+ (244-2) 325 023', '+ (244-2) 325 023']},\n",
              " {'Beatriz Busaniche': ['+ (54-11) 4784 1159']},\n",
              " {'Francesca Beddie': ['+ (61-2) 6274 9500', '+ (61-2) 6274 9513']},\n",
              " {'Graham John Smith': ['+ (61-3) 9807 4702']}]"
            ]
          },
          "metadata": {},
          "execution_count": 4
        }
      ]
    },
    {
      "cell_type": "markdown",
      "metadata": {
        "id": "-YL9LBxRkVNW"
      },
      "source": [
        "2"
      ]
    },
    {
      "cell_type": "code",
      "metadata": {
        "colab": {
          "base_uri": "https://localhost:8080/"
        },
        "id": "WN7TKCwSl42D",
        "outputId": "0cb937ce-73c4-42a8-8918-15d58c24ff6c"
      },
      "source": [
        "\n",
        "res = list();\n",
        "for person in ab.address_book.find_all(\"address\"):\n",
        "    if person.gender.text == 'f':\n",
        "        res.append(person.find(\"email\").next)\n",
        "    else:\n",
        "      pass\n",
        "res"
      ],
      "execution_count": 5,
      "outputs": [
        {
          "output_type": "execute_result",
          "data": {
            "text/plain": [
              "['luisagrilo@ebonet.net', 'f.beddie@ala.asn.au']"
            ]
          },
          "metadata": {},
          "execution_count": 5
        }
      ]
    },
    {
      "cell_type": "markdown",
      "metadata": {
        "id": "AIfblVabkWnw"
      },
      "source": [
        "3"
      ]
    },
    {
      "cell_type": "code",
      "metadata": {
        "colab": {
          "base_uri": "https://localhost:8080/"
        },
        "id": "ZhCzB0Jfmanx",
        "outputId": "1d9d49f2-e968-4983-c310-e723750985e0"
      },
      "source": [
        "res = list();\n",
        "for person in ab.address_book.find_all(\"address\"):\n",
        "    if person.find('phone', type='work') != None:\n",
        "        res.append(person.find('name').next)\n",
        "    else:\n",
        "      pass\n",
        "\n",
        "res"
      ],
      "execution_count": 6,
      "outputs": [
        {
          "output_type": "execute_result",
          "data": {
            "text/plain": [
              "['Aicha Barki',\n",
              " 'Francisco Domingos',\n",
              " 'Abraao Chanda',\n",
              " 'Beatriz Busaniche',\n",
              " 'Francesca Beddie',\n",
              " 'Graham John Smith']"
            ]
          },
          "metadata": {},
          "execution_count": 6
        }
      ]
    },
    {
      "cell_type": "markdown",
      "metadata": {
        "id": "SbPUB6-pkYLg"
      },
      "source": [
        "4"
      ]
    },
    {
      "cell_type": "code",
      "metadata": {
        "id": "bDOh_9eyh1zg",
        "colab": {
          "base_uri": "https://localhost:8080/"
        },
        "outputId": "48277335-3709-417f-e18a-2351e8f078be"
      },
      "source": [
        "res = {};\n",
        "for country in ab.address_book.find_all(\"country\"):\n",
        "  cnt = 0\n",
        "  for person in country.find_all(\"address\"):\n",
        "    cnt += 1\n",
        "  res.update({country[\"name\"]: cnt})\n",
        "res  \n"
      ],
      "execution_count": 7,
      "outputs": [
        {
          "output_type": "execute_result",
          "data": {
            "text/plain": [
              "{'algeria': 1, 'angola': 3, 'argentina': 1, 'australia': 2}"
            ]
          },
          "metadata": {},
          "execution_count": 7
        }
      ]
    },
    {
      "cell_type": "markdown",
      "metadata": {
        "id": "dTEc73hF_sng"
      },
      "source": [
        "5) Превратить информацию из addres-book.xml в json файл с содержимым вида: [{'birthday': '11.07.1984', 'email': 'bruce@gmail.com', 'name': 'Bruce Lee'},\n",
        " {'birthday': '22.03.1985', 'email': 'alee@yandex.ru', 'name': 'Alice Lee'}]"
      ]
    },
    {
      "cell_type": "markdown",
      "metadata": {
        "id": "lG3NIjii_sng"
      },
      "source": [
        "Здачи на работу с данными ЕЦБ:"
      ]
    },
    {
      "cell_type": "code",
      "metadata": {
        "id": "eWdX_8tH_sng"
      },
      "source": [
        "import requests\n",
        "from bs4 import BeautifulSoup"
      ],
      "execution_count": null,
      "outputs": []
    },
    {
      "cell_type": "code",
      "metadata": {
        "id": "nHAUO_o2_snh"
      },
      "source": [
        "# Create a variable with the URL to this tutorial\n",
        "url = 'http://sdw.ecb.europa.eu/quickviewexport.do?SERIES_KEY=320.MNA.Q.Y.I8.W0.S1.S1._Z.LPR_PS._Z._T._Z.EUR.LR.GY&start=01-01-2001&end=01-01-2011&type=sdmx'\n",
        "\n",
        "# Scrape the HTML at the url\n",
        "r = requests.get(url)\n",
        "\n",
        "# Turn the HTML into a Beautiful Soup object\n",
        "s = BeautifulSoup(r.text, 'xml')"
      ],
      "execution_count": null,
      "outputs": []
    },
    {
      "cell_type": "code",
      "metadata": {
        "scrolled": false,
        "id": "mfOcXcuj_sni"
      },
      "source": [
        "s.MessageGroup.Header"
      ],
      "execution_count": null,
      "outputs": []
    },
    {
      "cell_type": "code",
      "metadata": {
        "id": "sPQPFWw6_snj"
      },
      "source": [
        "s.MessageGroup.Header.ID"
      ],
      "execution_count": null,
      "outputs": []
    },
    {
      "cell_type": "code",
      "metadata": {
        "id": "k_mVy704_snj"
      },
      "source": [
        "s.MessageGroup.Header.ID.text"
      ],
      "execution_count": null,
      "outputs": []
    },
    {
      "cell_type": "code",
      "metadata": {
        "id": "3G7HYA4R_snk"
      },
      "source": [
        "obs_all = s.findAll('Obs')"
      ],
      "execution_count": null,
      "outputs": []
    },
    {
      "cell_type": "code",
      "metadata": {
        "id": "Jzf_ZpKL_snk"
      },
      "source": [
        "len(obs_all)"
      ],
      "execution_count": null,
      "outputs": []
    },
    {
      "cell_type": "code",
      "metadata": {
        "id": "mTcMKSwr_snk"
      },
      "source": [
        "for obs in obs_all:\n",
        "    print('When: {}, value {}'.format(obs['TIME_PERIOD'], obs['OBS_VALUE']))"
      ],
      "execution_count": null,
      "outputs": []
    },
    {
      "cell_type": "code",
      "metadata": {
        "id": "_YiYGgfK_snk"
      },
      "source": [
        ""
      ],
      "execution_count": null,
      "outputs": []
    },
    {
      "cell_type": "markdown",
      "metadata": {
        "collapsed": true,
        "id": "kLllNmuN_snl"
      },
      "source": [
        "## Сбор данных с html страниц"
      ]
    },
    {
      "cell_type": "code",
      "metadata": {
        "collapsed": true,
        "id": "s-G_pMpV_snl"
      },
      "source": [
        "import urllib\n",
        "import urllib.parse\n",
        "import urllib.request"
      ],
      "execution_count": null,
      "outputs": []
    },
    {
      "cell_type": "code",
      "metadata": {
        "id": "Zhq8bOm0_snl"
      },
      "source": [
        "url_wikipedia = 'https://ru.wikipedia.org'\n",
        "url_es = 'https://ru.wikipedia.org/wiki/Категория:Электростанции_по_алфавиту'\n",
        "url_es_q  = urllib.parse.quote(url_es, safe='/:')\n",
        "print(url_es_q)"
      ],
      "execution_count": null,
      "outputs": []
    },
    {
      "cell_type": "code",
      "metadata": {
        "collapsed": true,
        "id": "KLahs-ld_snl"
      },
      "source": [
        "es_bs = BeautifulSoup(urllib.request.urlopen(url_es_q), 'lxml')"
      ],
      "execution_count": null,
      "outputs": []
    },
    {
      "cell_type": "code",
      "metadata": {
        "collapsed": true,
        "id": "BYJV7lAT_snm"
      },
      "source": [
        "all_es = []\n",
        "for i in range(30):\n",
        "    # load links:\n",
        "    bef = len(all_es)\n",
        "    for links in es_bs.find_all('div', class_='mw-category-group'):\n",
        "        for l in links.find_all('a'):\n",
        "            all_es.append((l['title'], url_wikipedia+l['href']))"
      ],
      "execution_count": null,
      "outputs": []
    },
    {
      "cell_type": "code",
      "metadata": {
        "id": "CAdhQpWU_snm"
      },
      "source": [
        "all_es"
      ],
      "execution_count": null,
      "outputs": []
    },
    {
      "cell_type": "code",
      "metadata": {
        "collapsed": true,
        "id": "cRY0gqMB_snm"
      },
      "source": [
        "all_es_prop = []"
      ],
      "execution_count": null,
      "outputs": []
    },
    {
      "cell_type": "code",
      "metadata": {
        "id": "-jUi3_b6_snm"
      },
      "source": [
        "for i, (n, lnk) in enumerate(all_es[:10]):\n",
        "    es = BeautifulSoup(urllib.request.urlopen(lnk), 'lxml')\n",
        "    coord = es.find_all('a', class_='mw-kartographer-maplink')\n",
        "    if len(coord) > 0:\n",
        "        lat, lon = coord[0]['data-lat'], coord[0]['data-lon']\n",
        "    else:\n",
        "        print('{}: {}, COORDINATES IS NOT FOUND! link: {}'.format(i, n, lnk))        \n",
        "        continue\n",
        "                          \n",
        "    es_pr = {}\n",
        "    table = es.find('table', class_=\"infobox\")\n",
        "    if table is not None:\n",
        "        for row in table.find_all('tr'):\n",
        "            th = row.find_all('th')\n",
        "            if th and len(th):\n",
        "    #             print(th[0].text.strip(), end=' || ')\n",
        "                td = row.find_all('td')\n",
        "                if td and len(td):\n",
        "                    es_pr[th[0].text.strip()] = td[0].text.strip()\n",
        "        #             print(td[0].text.strip())            \n",
        "        all_es_prop.append((n, lnk, lat, lon, es_pr))\n",
        "        print('{}: {}, lat: {}, lon: {}, cont: {}'.format(i, n, lat, lon, es_pr.get('Страна', '--')))\n",
        "    else:\n",
        "        print('{}: {}, TABLE IS NOT FOUND! link: {}'.format(i, n, lnk)) "
      ],
      "execution_count": null,
      "outputs": []
    },
    {
      "cell_type": "code",
      "metadata": {
        "id": "kLuy1tmf_snn"
      },
      "source": [
        "all_es_prop"
      ],
      "execution_count": null,
      "outputs": []
    },
    {
      "cell_type": "markdown",
      "metadata": {
        "id": "wctxUdPM_snn"
      },
      "source": [
        "Задание: собрать данные о городах России по категори: https://ru.wikipedia.org/wiki/Категория:Города_по_субъектам_Российской_Федерации\n"
      ]
    },
    {
      "cell_type": "code",
      "metadata": {
        "id": "ewMOiz6G_sno"
      },
      "source": [
        ""
      ],
      "execution_count": null,
      "outputs": []
    }
  ]
}